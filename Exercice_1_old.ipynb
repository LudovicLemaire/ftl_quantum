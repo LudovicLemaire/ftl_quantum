{
 "cells": [
  {
   "cell_type": "code",
   "execution_count": 1,
   "id": "1ac8e7f4",
   "metadata": {},
   "outputs": [],
   "source": [
    "import numpy as np\n",
    "import qiskit as q\n",
    "from qiskit import QuantumCircuit\n",
    "from matplotlib import style\n",
    "style.use(\"classic\")\n",
    "%matplotlib inline"
   ]
  },
  {
   "cell_type": "code",
   "execution_count": 2,
   "id": "ed62e70e",
   "metadata": {},
   "outputs": [
    {
     "data": {
      "text/plain": [
       "<AccountProvider for IBMQ(hub='ibm-q', group='open', project='main')>"
      ]
     },
     "execution_count": 2,
     "metadata": {},
     "output_type": "execute_result"
    }
   ],
   "source": [
    "from qiskit import IBMQ\n",
    "# IBMQ.save_account(\"\")\n",
    "IBMQ.load_account()"
   ]
  },
  {
   "cell_type": "code",
   "execution_count": 3,
   "id": "34e75581",
   "metadata": {},
   "outputs": [
    {
     "name": "stdout",
     "output_type": "stream",
     "text": [
      "Simulated quantum computers:\n",
      "\tibmq_qasm_simulator            has  6 queues\n",
      "\tsimulator_statevector          has  5 queues\n",
      "\tsimulator_mps                  has  5 queues\n",
      "\tsimulator_extended_stabilizer  has  5 queues\n",
      "\tsimulator_stabilizer           has  5 queues\n",
      "\n",
      "\n",
      "Real quantum computers:\n",
      "\tibmq_armonk    has 35 queues with  1 qubits\n",
      "\tibmq_santiago  has  4 queues with  5 qubits\n",
      "\tibmq_bogota    has 16 queues with  5 qubits\n",
      "\tibmq_lima      has  5 queues with  5 qubits\n",
      "\tibmq_belem     has  0 queues with  5 qubits\n",
      "\tibmq_quito     has 62 queues with  5 qubits\n",
      "\tibmq_manila    has  5 queues with  5 qubits\n"
     ]
    }
   ],
   "source": [
    "provider = IBMQ.get_provider(hub=\"ibm-q\")\n",
    "\n",
    "simulated_qt_computers = []\n",
    "real_qt_computers = []\n",
    "\n",
    "for backend in provider.backends():\n",
    "    try:\n",
    "        qubit_count = len(backend.properties().qubits)\n",
    "    except:\n",
    "        qubit_count = -1\n",
    "        \n",
    "    \n",
    "    if qubit_count == -1:\n",
    "        simulated_qt_computers.append(f\"{backend.name().ljust(30)} has {backend.status().pending_jobs:>2} queues\")\n",
    "    else:\n",
    "        real_qt_computers.append(f\"{backend.name().ljust(14)} has {backend.status().pending_jobs:>2} queues with {qubit_count:>2} qubits\")\n",
    "\n",
    "\n",
    "print (\"Simulated quantum computers:\")\n",
    "for computer in simulated_qt_computers:\n",
    "    print (\"\\t\" + computer)\n",
    "print (\"\\n\")\n",
    "print (\"Real quantum computers:\")\n",
    "for computer in real_qt_computers:\n",
    "    print (\"\\t\" + computer)\n",
    "    "
   ]
  },
  {
   "cell_type": "code",
   "execution_count": null,
   "id": "34a590d4",
   "metadata": {},
   "outputs": [],
   "source": []
  }
 ],
 "metadata": {
  "kernelspec": {
   "display_name": "Python 3 (ipykernel)",
   "language": "python",
   "name": "python3"
  },
  "language_info": {
   "codemirror_mode": {
    "name": "ipython",
    "version": 3
   },
   "file_extension": ".py",
   "mimetype": "text/x-python",
   "name": "python",
   "nbconvert_exporter": "python",
   "pygments_lexer": "ipython3",
   "version": "3.10.4"
  }
 },
 "nbformat": 4,
 "nbformat_minor": 5
}
