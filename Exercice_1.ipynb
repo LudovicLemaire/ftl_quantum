{
 "cells": [
  {
   "cell_type": "code",
   "execution_count": 1,
   "id": "1ac8e7f4",
   "metadata": {},
   "outputs": [],
   "source": [
    "import numpy as np\n",
    "import qiskit as q\n",
    "from qiskit import QuantumCircuit\n",
    "from matplotlib import style\n",
    "style.use(\"classic\")\n",
    "%matplotlib inline"
   ]
  },
  {
   "cell_type": "code",
   "execution_count": 2,
   "id": "ed62e70e",
   "metadata": {},
   "outputs": [],
   "source": [
    "from qiskit_ibm_provider import IBMProvider\n",
    "IBMProvider.save_account(token=\"\", overwrite=True)"
   ]
  },
  {
   "cell_type": "code",
   "execution_count": 3,
   "id": "34a590d4",
   "metadata": {},
   "outputs": [
    {
     "name": "stdout",
     "output_type": "stream",
     "text": [
      "Simulated quantum computers:\n",
      "\tibmq_qasm_simulator            has  0 queues\n",
      "\tsimulator_extended_stabilizer  has  0 queues\n",
      "\tsimulator_mps                  has  0 queues\n",
      "\tsimulator_statevector          has  0 queues\n",
      "\tsimulator_stabilizer           has  0 queues\n",
      "\n",
      "\n",
      "Real quantum computers:\n",
      "\tibm_perth      has 111 queues with  7 qubits\n",
      "\tibmq_belem     has  7 queues with  5 qubits\n",
      "\tibm_nairobi    has 175 queues with  7 qubits\n",
      "\tibm_lagos      has 187 queues with  7 qubits\n",
      "\tibmq_jakarta   has 17 queues with  7 qubits\n",
      "\tibmq_quito     has 13 queues with  5 qubits\n",
      "\tibmq_lima      has  3 queues with  5 qubits\n",
      "\tibmq_manila    has 20 queues with  5 qubits\n"
     ]
    }
   ],
   "source": [
    "provider = IBMProvider()\n",
    "\n",
    "simulated_qt_computers = []\n",
    "real_qt_computers = []\n",
    "\n",
    "for backend in provider.backends():\n",
    "    try:\n",
    "        qubit_count = len(backend.properties().qubits)\n",
    "    except:\n",
    "        qubit_count = -1\n",
    "        \n",
    "    \n",
    "    if qubit_count == -1:\n",
    "        simulated_qt_computers.append(f\"{backend.name.ljust(30)} has {backend.status().pending_jobs:>2} queues\")\n",
    "    else:\n",
    "        real_qt_computers.append(f\"{backend.name.ljust(14)} has {backend.status().pending_jobs:>2} queues with {qubit_count:>2} qubits\")\n",
    "\n",
    "\n",
    "print (\"Simulated quantum computers:\")\n",
    "for computer in simulated_qt_computers:\n",
    "    print (\"\\t\" + computer)\n",
    "print (\"\\n\")\n",
    "print (\"Real quantum computers:\")\n",
    "for computer in real_qt_computers:\n",
    "    print (\"\\t\" + computer)\n",
    "    "
   ]
  },
  {
   "cell_type": "code",
   "execution_count": 4,
   "id": "81087aef",
   "metadata": {},
   "outputs": [
    {
     "name": "stdout",
     "output_type": "stream",
     "text": [
      "Simulated quantum computers:\n",
      "\tsimulator_stabilizer           has  0 queues\n",
      "\tibmq_qasm_simulator            has  0 queues\n",
      "\tsimulator_extended_stabilizer  has  0 queues\n",
      "\tsimulator_mps                  has  0 queues\n",
      "\tsimulator_statevector          has  0 queues\n",
      "\n",
      "\n",
      "Real quantum computers:\n",
      "\tibmq_quito     has 12 queues with  5 qubits\n",
      "\tibmq_lima      has  4 queues with  5 qubits\n",
      "\tibm_lagos      has 188 queues with  7 qubits\n",
      "\tibmq_belem     has  4 queues with  5 qubits\n",
      "\tibmq_manila    has 20 queues with  5 qubits\n",
      "\tibm_nairobi    has 175 queues with  7 qubits\n",
      "\tibm_perth      has 113 queues with  7 qubits\n",
      "\tibmq_jakarta   has 17 queues with  7 qubits\n"
     ]
    }
   ],
   "source": [
    "from qiskit_ibm_runtime import QiskitRuntimeService\n",
    "\n",
    "QiskitRuntimeService.save_account(channel=\"ibm_quantum\", token=\"\", overwrite=True)\n",
    "service = QiskitRuntimeService()\n",
    "\n",
    "simulated_qt_computers = []\n",
    "real_qt_computers = []\n",
    "\n",
    "for backend in service.backends():\n",
    "    try:\n",
    "        qubit_count = len(backend.properties().qubits)\n",
    "    except:\n",
    "        qubit_count = -1\n",
    "        \n",
    "    \n",
    "    if qubit_count == -1:\n",
    "        simulated_qt_computers.append(f\"{backend.name.ljust(30)} has {backend.status().pending_jobs:>2} queues\")\n",
    "    else:\n",
    "        real_qt_computers.append(f\"{backend.name.ljust(14)} has {backend.status().pending_jobs:>2} queues with {qubit_count:>2} qubits\")\n",
    "\n",
    "\n",
    "print (\"Simulated quantum computers:\")\n",
    "for computer in simulated_qt_computers:\n",
    "    print (\"\\t\" + computer)\n",
    "print (\"\\n\")\n",
    "print (\"Real quantum computers:\")\n",
    "for computer in real_qt_computers:\n",
    "    print (\"\\t\" + computer)"
   ]
  },
  {
   "cell_type": "code",
   "execution_count": null,
   "id": "77b8554c",
   "metadata": {},
   "outputs": [],
   "source": []
  }
 ],
 "metadata": {
  "kernelspec": {
   "display_name": "Python 3 (ipykernel)",
   "language": "python",
   "name": "python3"
  },
  "language_info": {
   "codemirror_mode": {
    "name": "ipython",
    "version": 3
   },
   "file_extension": ".py",
   "mimetype": "text/x-python",
   "name": "python",
   "nbconvert_exporter": "python",
   "pygments_lexer": "ipython3",
   "version": "3.10.6"
  }
 },
 "nbformat": 4,
 "nbformat_minor": 5
}
