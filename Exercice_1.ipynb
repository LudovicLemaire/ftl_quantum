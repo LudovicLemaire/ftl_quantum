{
 "cells": [
  {
   "cell_type": "code",
   "execution_count": 1,
   "id": "1ac8e7f4",
   "metadata": {},
   "outputs": [],
   "source": [
    "import numpy as np\n",
    "import qiskit as q\n",
    "from qiskit import QuantumCircuit\n",
    "from matplotlib import style\n",
    "style.use(\"classic\")\n",
    "%matplotlib inline"
   ]
  },
  {
   "cell_type": "code",
   "execution_count": null,
   "id": "ed62e70e",
   "metadata": {},
   "outputs": [],
   "source": [
    "from qiskit_ibm_provider import IBMProvider\n",
    "IBMProvider.save_account(token=\"\", overwrite=True)"
   ]
  },
  {
   "cell_type": "code",
   "execution_count": null,
   "id": "34e75581",
   "metadata": {},
   "outputs": [],
   "source": [
    "from qiskit_ibm_provider import least_busy\n",
    "\n",
    "provider = IBMProvider()\n",
    "\n",
    "for backend in provider.backends(simulator=False, operational=True):\n",
    "    try:\n",
    "        qubit_count = len(backend.properties().qubits)\n",
    "    except:\n",
    "        qubit_count = -1\n",
    "    \n",
    "    print (backend.status().backend_name)\n",
    "    #print (\"qubit: \", qubit_count)\n",
    "    print (\"status: \", backend.status().to_dict())\n",
    "    #print(\"backend: \", vars(backend))\n",
    "    print()\n",
    "\n",
    "small_devices = provider.backends(min_num_qubits=5, simulator=False, operational=True)\n",
    "backend = least_busy(small_devices)\n",
    "print(backend)\n",
    "print(backend.status().to_dict())"
   ]
  },
  {
   "cell_type": "code",
   "execution_count": null,
   "id": "34a590d4",
   "metadata": {},
   "outputs": [],
   "source": [
    "provider = IBMProvider()\n",
    "\n",
    "simulated_qt_computers = []\n",
    "real_qt_computers = []\n",
    "\n",
    "for backend in provider.backends():\n",
    "    try:\n",
    "        qubit_count = len(backend.properties().qubits)\n",
    "    except:\n",
    "        qubit_count = -1\n",
    "        \n",
    "    \n",
    "    if qubit_count == -1:\n",
    "        simulated_qt_computers.append(f\"{backend.name.ljust(30)} has {backend.status().pending_jobs:>2} queues\")\n",
    "    else:\n",
    "        real_qt_computers.append(f\"{backend.name.ljust(14)} has {backend.status().pending_jobs:>2} queues with {qubit_count:>2} qubits\")\n",
    "\n",
    "\n",
    "print (\"Simulated quantum computers:\")\n",
    "for computer in simulated_qt_computers:\n",
    "    print (\"\\t\" + computer)\n",
    "print (\"\\n\")\n",
    "print (\"Real quantum computers:\")\n",
    "for computer in real_qt_computers:\n",
    "    print (\"\\t\" + computer)\n",
    "    "
   ]
  }
 ],
 "metadata": {
  "kernelspec": {
   "display_name": "Python 3 (ipykernel)",
   "language": "python",
   "name": "python3"
  },
  "language_info": {
   "codemirror_mode": {
    "name": "ipython",
    "version": 3
   },
   "file_extension": ".py",
   "mimetype": "text/x-python",
   "name": "python",
   "nbconvert_exporter": "python",
   "pygments_lexer": "ipython3",
   "version": "3.10.4"
  }
 },
 "nbformat": 4,
 "nbformat_minor": 5
}
