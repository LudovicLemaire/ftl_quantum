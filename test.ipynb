{
 "cells": [
  {
   "cell_type": "code",
   "execution_count": 1,
   "id": "173167b4",
   "metadata": {},
   "outputs": [],
   "source": [
    "import numpy as np\n",
    "import qiskit as q\n",
    "from qiskit import QuantumCircuit\n",
    "from matplotlib import style\n",
    "style.use(\"classic\")\n",
    "%matplotlib inline"
   ]
  },
  {
   "cell_type": "code",
   "execution_count": 2,
   "id": "df3db10d",
   "metadata": {},
   "outputs": [
    {
     "data": {
      "image/png": "[encoded data removed]",
      "text/plain": [
       "<Figure size 507.997x264.88 with 1 Axes>"
      ]
     },
     "execution_count": 2,
     "metadata": {},
     "output_type": "execute_result"
    }
   ],
   "source": [
    "# Create a Quantum Circuit acting on a quantum register of two qubits and two bits\n",
    "circ = QuantumCircuit(3, 3)\n",
    "circ.h(0)\n",
    "circ.cx(0, 1)\n",
    "circ.cx(0, 2)\n",
    "circ.barrier(range(3))\n",
    "circ.measure(range(3), range(3))\n",
    "circ.draw('mpl')"
   ]
  },
  {
   "cell_type": "code",
   "execution_count": 3,
   "id": "97a9c122",
   "metadata": {},
   "outputs": [
    {
     "name": "stderr",
     "output_type": "stream",
     "text": [
      "configrc.store_credentials:WARNING:2022-05-09 12:48:02,703: Credentials already present. Set overwrite=True to overwrite.\n"
     ]
    }
   ],
   "source": [
    "from qiskit import IBMQ\n",
    "IBMQ.load_account()"
   ]
  },
  {
   "cell_type": "code",
   "execution_count": 10,
   "id": "dab5dbfd",
   "metadata": {},
   "outputs": [
    {
     "name": "stdout",
     "output_type": "stream",
     "text": [
      "Simulated quantum computers:\n",
      "\tibmq_qasm_simulator            has  3 queues\n",
      "\tsimulator_statevector          has  3 queues\n",
      "\tsimulator_mps                  has  3 queues\n",
      "\tsimulator_extended_stabilizer  has  3 queues\n",
      "\tsimulator_stabilizer           has  3 queues\n",
      "\n",
      "\n",
      "Real quantum computers:\n",
      "\tibmq_armonk    has  8 queues with  1 qubits\n",
      "\tibmq_santiago  has 40 queues with  5 qubits\n",
      "\tibmq_bogota    has 23 queues with  5 qubits\n",
      "\tibmq_lima      has 18 queues with  5 qubits\n",
      "\tibmq_belem     has 24 queues with  5 qubits\n",
      "\tibmq_quito     has  4 queues with  5 qubits\n",
      "\tibmq_manila    has 30 queues with  5 qubits\n"
     ]
    }
   ],
   "source": [
    "provider = IBMQ.get_provider(hub=\"ibm-q\")\n",
    "\n",
    "simulated_qt_computers = []\n",
    "real_qt_computers = []\n",
    "\n",
    "for backend in provider.backends():\n",
    "    try:\n",
    "        qubit_count = len(backend.properties().qubits)\n",
    "    except:\n",
    "        qubit_count = -1\n",
    "        \n",
    "    \n",
    "    if qubit_count == -1:\n",
    "        simulated_qt_computers.append(f\"{backend.name().ljust(30)} has {backend.status().pending_jobs:>2} queues\")\n",
    "    else:\n",
    "        real_qt_computers.append(f\"{backend.name().ljust(14)} has {backend.status().pending_jobs:>2} queues with {qubit_count:>2} qubits\")\n",
    "\n",
    "\n",
    "print (\"Simulated quantum computers:\")\n",
    "for computer in simulated_qt_computers:\n",
    "    print (\"\\t\" + computer)\n",
    "print (\"\\n\")\n",
    "print (\"Real quantum computers:\")\n",
    "for computer in real_qt_computers:\n",
    "    print (\"\\t\" + computer)\n"
   ]
  },
  {
   "cell_type": "code",
   "execution_count": 8,
   "id": "ce1c6b66",
   "metadata": {},
   "outputs": [
    {
     "name": "stdout",
     "output_type": "stream",
     "text": [
      "Job Status: job has successfully run\n"
     ]
    }
   ],
   "source": [
    "from qiskit.tools.monitor import job_monitor\n",
    "\n",
    "backend = provider.get_backend(\"ibmq_belem\")\n",
    "job = q.execute(circ , backend=backend, shots=500)\n",
    "job_monitor(job)"
   ]
  },
  {
   "cell_type": "code",
   "execution_count": 9,
   "id": "53af3811",
   "metadata": {},
   "outputs": [
    {
     "data": {
      "image/png": "[encoded data removed]",
      "text/plain": [
       "<Figure size 504x360 with 1 Axes>"
      ]
     },
     "execution_count": 9,
     "metadata": {},
     "output_type": "execute_result"
    }
   ],
   "source": [
    "from qiskit.visualization import plot_histogram\n",
    "\n",
    "result = job.result()\n",
    "counts = result.get_counts(circ)\n",
    "\n",
    "plot_histogram([counts])"
   ]
  },
  {
   "cell_type": "code",
   "execution_count": null,
   "id": "f1947e91",
   "metadata": {},
   "outputs": [],
   "source": [
    "from qiskit import Aer #simulator framework for qiskit\n",
    "\n",
    "print (\"All simulators:\")\n",
    "for backend in Aer.backends():\n",
    "    print (\"\\t\" + str(backend))"
   ]
  },
  {
   "cell_type": "code",
   "execution_count": null,
   "id": "5ac7389c",
   "metadata": {},
   "outputs": [],
   "source": [
    "sim_backend = Aer.get_backend(\"aer_simulator\")"
   ]
  },
  {
   "cell_type": "code",
   "execution_count": null,
   "id": "8d4d170f",
   "metadata": {},
   "outputs": [],
   "source": [
    "job = q.execute(circ, backend=sim_backend, shots=500)\n",
    "job_monitor(job)\n",
    "\n",
    "result = job.result()\n",
    "counts = result.get_counts(circ)\n",
    "\n",
    "plot_histogram([counts])"
   ]
  },
  {
   "cell_type": "code",
   "execution_count": null,
   "id": "00e0f03c",
   "metadata": {},
   "outputs": [],
   "source": []
  }
 ],
 "metadata": {
  "celltoolbar": "Aucun(e)",
  "kernelspec": {
   "display_name": "Python 3 (ipykernel)",
   "language": "python",
   "name": "python3"
  },
  "language_info": {
   "codemirror_mode": {
    "name": "ipython",
    "version": 3
   },
   "file_extension": ".py",
   "mimetype": "text/x-python",
   "name": "python",
   "nbconvert_exporter": "python",
   "pygments_lexer": "ipython3",
   "version": "3.10.4"
  }
 },
 "nbformat": 4,
 "nbformat_minor": 5
}
